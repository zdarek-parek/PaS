{
 "cells": [
  {
   "cell_type": "markdown",
   "metadata": {},
   "source": [
    "# Statistika: Výsledky zkoušek\n",
    "\n",
    ">[Data byla získana z webu kaggle](https://www.kaggle.com/datasets/spscientist/students-performance-in-exams?select=StudentsPerformance.csv)\n"
   ]
  },
  {
   "cell_type": "code",
   "execution_count": 54,
   "metadata": {},
   "outputs": [],
   "source": [
    "import sys\n",
    "#!{sys.executable} -m pip install statsmodels\n",
    "import numpy\n",
    "import pandas as pd  \n",
    "from scipy import stats\n",
    "import matplotlib.pyplot as plt\n",
    "import statsmodels.api as sm"
   ]
  },
  {
   "cell_type": "markdown",
   "metadata": {},
   "source": [
    "# Načtení dat"
   ]
  },
  {
   "cell_type": "code",
   "execution_count": 55,
   "metadata": {},
   "outputs": [
    {
     "data": {
      "text/html": [
       "<div>\n",
       "<style scoped>\n",
       "    .dataframe tbody tr th:only-of-type {\n",
       "        vertical-align: middle;\n",
       "    }\n",
       "\n",
       "    .dataframe tbody tr th {\n",
       "        vertical-align: top;\n",
       "    }\n",
       "\n",
       "    .dataframe thead th {\n",
       "        text-align: right;\n",
       "    }\n",
       "</style>\n",
       "<table border=\"1\" class=\"dataframe\">\n",
       "  <thead>\n",
       "    <tr style=\"text-align: right;\">\n",
       "      <th></th>\n",
       "      <th>gender</th>\n",
       "      <th>race/ethnicity</th>\n",
       "      <th>parental level of education</th>\n",
       "      <th>lunch</th>\n",
       "      <th>test preparation course</th>\n",
       "      <th>math score</th>\n",
       "      <th>reading score</th>\n",
       "      <th>writing score</th>\n",
       "    </tr>\n",
       "  </thead>\n",
       "  <tbody>\n",
       "    <tr>\n",
       "      <th>0</th>\n",
       "      <td>female</td>\n",
       "      <td>group B</td>\n",
       "      <td>bachelor's degree</td>\n",
       "      <td>standard</td>\n",
       "      <td>none</td>\n",
       "      <td>72</td>\n",
       "      <td>72</td>\n",
       "      <td>74</td>\n",
       "    </tr>\n",
       "    <tr>\n",
       "      <th>1</th>\n",
       "      <td>female</td>\n",
       "      <td>group C</td>\n",
       "      <td>some college</td>\n",
       "      <td>standard</td>\n",
       "      <td>completed</td>\n",
       "      <td>69</td>\n",
       "      <td>90</td>\n",
       "      <td>88</td>\n",
       "    </tr>\n",
       "    <tr>\n",
       "      <th>2</th>\n",
       "      <td>female</td>\n",
       "      <td>group B</td>\n",
       "      <td>master's degree</td>\n",
       "      <td>standard</td>\n",
       "      <td>none</td>\n",
       "      <td>90</td>\n",
       "      <td>95</td>\n",
       "      <td>93</td>\n",
       "    </tr>\n",
       "    <tr>\n",
       "      <th>3</th>\n",
       "      <td>male</td>\n",
       "      <td>group A</td>\n",
       "      <td>associate's degree</td>\n",
       "      <td>free/reduced</td>\n",
       "      <td>none</td>\n",
       "      <td>47</td>\n",
       "      <td>57</td>\n",
       "      <td>44</td>\n",
       "    </tr>\n",
       "    <tr>\n",
       "      <th>4</th>\n",
       "      <td>male</td>\n",
       "      <td>group C</td>\n",
       "      <td>some college</td>\n",
       "      <td>standard</td>\n",
       "      <td>none</td>\n",
       "      <td>76</td>\n",
       "      <td>78</td>\n",
       "      <td>75</td>\n",
       "    </tr>\n",
       "  </tbody>\n",
       "</table>\n",
       "</div>"
      ],
      "text/plain": [
       "   gender race/ethnicity parental level of education         lunch   \n",
       "0  female        group B           bachelor's degree      standard  \\\n",
       "1  female        group C                some college      standard   \n",
       "2  female        group B             master's degree      standard   \n",
       "3    male        group A          associate's degree  free/reduced   \n",
       "4    male        group C                some college      standard   \n",
       "\n",
       "  test preparation course  math score  reading score  writing score  \n",
       "0                    none          72             72             74  \n",
       "1               completed          69             90             88  \n",
       "2                    none          90             95             93  \n",
       "3                    none          47             57             44  \n",
       "4                    none          76             78             75  "
      ]
     },
     "execution_count": 55,
     "metadata": {},
     "output_type": "execute_result"
    }
   ],
   "source": [
    "table = pd.read_csv('./StudentsPerformance.csv', delimiter=',')\n",
    "table.head()\n"
   ]
  },
  {
   "cell_type": "markdown",
   "metadata": {},
   "source": [
    "# 1. test\n",
    "\n",
    "Prozkouáme, zda reading score je dobře modelováno normálním rozdělením.\n",
    "\n",
    "To uděláme pomocí chi-kvadrát testu.\n",
    "\n",
    "Nulová hypotéza: reading score je dobře modelováno normálním rozdělením.<br>\n",
    "Alternativní hypotéza: data nejsou dobře modelována normálním rozdělením."
   ]
  },
  {
   "cell_type": "code",
   "execution_count": 71,
   "metadata": {},
   "outputs": [
    {
     "data": {
      "image/png": "[encoded data removed]",
      "text/plain": [
       "<Figure size 640x480 with 1 Axes>"
      ]
     },
     "metadata": {},
     "output_type": "display_data"
    }
   ],
   "source": [
    "reading_score = table['reading score']\n",
    "figure, main_ax = plt.subplots()\n",
    "main_ax.set_title('Histogram bodů, získaných za reading test')\n",
    "main_ax.set_xlabel('počet bodů')\n",
    "main_ax.set_ylabel('frekvence')\n",
    "plt.hist(reading_score, bins=[17, 27, 37, 47, 57, 67, 77, 87, 97, 100])\n",
    "plt.show()\n"
   ]
  },
  {
   "cell_type": "markdown",
   "metadata": {},
   "source": [
    "Histogram vypadá dobře, takže pojďme určit průměr, rozptyl a směrodatnou odchylku."
   ]
  },
  {
   "cell_type": "code",
   "execution_count": 57,
   "metadata": {},
   "outputs": [
    {
     "name": "stdout",
     "output_type": "stream",
     "text": [
      "Průměr = 69.169\n",
      "Rozptyl = 213.16560460460462\n",
      "Směrodatná odchylka = 14.592890015346516\n"
     ]
    }
   ],
   "source": [
    "reading_score_mean = reading_score.mean()\n",
    "print(f\"Průměr = {reading_score_mean}\")\n",
    "reading_score_var = reading_score.var()\n",
    "print(f\"Rozptyl = {reading_score_var}\")\n",
    "reading_score_std = numpy.std(reading_score)\n",
    "print(f\"Směrodatná odchylka = {reading_score_std}\")"
   ]
  },
  {
   "cell_type": "markdown",
   "metadata": {},
   "source": [
    "Dále vytvoříme intervály a spočteme, kolik studentů připadá na každý interval.\n",
    "\n",
    "Intervaly: < 20, < 40, < 60, < 80, 80 >=.\n"
   ]
  },
  {
   "cell_type": "code",
   "execution_count": 58,
   "metadata": {},
   "outputs": [
    {
     "name": "stdout",
     "output_type": "stream",
     "text": [
      "Počet studentů v každém intervalu: [1, 25, 228, 497, 249]\n"
     ]
    }
   ],
   "source": [
    "intervals = [20, 40, 60, 80]\n",
    "numbers_in_intervals = [0, 0, 0, 0, 0]\n",
    "numbers_in_intervals[0] = sum(reading_score < intervals[0])\n",
    "numbers_in_intervals[len(intervals)] = sum(reading_score >= intervals[len(intervals)-1])\n",
    "for i in range(1, len(intervals)):\n",
    "    numbers_in_intervals[i] = sum(reading_score < intervals[i]) - sum(reading_score<intervals[i-1])\n",
    "\n",
    "print(f\"Počet studentů v každém intervalu: {numbers_in_intervals}\")"
   ]
  },
  {
   "cell_type": "markdown",
   "metadata": {},
   "source": [
    "Teď najdeme z-skóre. Z-skóre spočteme jako podíl rozdílu horní hranice intervalu a průměru a směrodatné odchylky."
   ]
  },
  {
   "cell_type": "code",
   "execution_count": 72,
   "metadata": {},
   "outputs": [
    {
     "name": "stdout",
     "output_type": "stream",
     "text": [
      "Z-skóre pro každý interval: : [-3.3693805646648296, -1.9988501228560356, -0.6283196810472415, 0.7422107607615527, 0]\n"
     ]
    }
   ],
   "source": [
    "z_score = [0, 0, 0, 0, 0]\n",
    "for i in range(len(intervals)):\n",
    "    z_score[i] = (intervals[i]-reading_score_mean)/reading_score_std\n",
    "\n",
    "\n",
    "print(f\"Z-skóre pro každý interval: : {z_score}\")"
   ]
  },
  {
   "cell_type": "markdown",
   "metadata": {},
   "source": [
    "Ze z-skóre spočteme plochu pod křívkou normálního rozdělení N(0, 1):"
   ]
  },
  {
   "cell_type": "code",
   "execution_count": 73,
   "metadata": {},
   "outputs": [
    {
     "name": "stdout",
     "output_type": "stream",
     "text": [
      "Plocha pod křívkou: [0.00037668666427077846, 0.02281228635540259, 0.2648972706508279, 0.771020175075132, 1]\n"
     ]
    }
   ],
   "source": [
    "area_under_curve = [0, 0, 0, 0, 0]\n",
    "\n",
    "for i in range(len(area_under_curve)):\n",
    "    area_under_curve[i] = stats.norm.cdf(z_score[i])\n",
    "\n",
    "area_under_curve[len(area_under_curve)-1] = 1\n",
    "print(f\"Plocha pod křívkou: {area_under_curve}\")"
   ]
  },
  {
   "cell_type": "markdown",
   "metadata": {},
   "source": [
    "Dále najdeme plochu pod křívkou v jednotlivých intervalech."
   ]
  },
  {
   "cell_type": "code",
   "execution_count": 61,
   "metadata": {},
   "outputs": [
    {
     "name": "stdout",
     "output_type": "stream",
     "text": [
      "Plochu pod křívkou v jednotlivých intervalech: [0.00038, 0.02244, 0.24208, 0.50612, 0.22898]\n"
     ]
    }
   ],
   "source": [
    "area_in_intervals = [0, 0, 0, 0, 0]\n",
    "area_in_intervals[0] = round(area_under_curve[0], 5)\n",
    "\n",
    "for i in range(1, len(area_in_intervals)):\n",
    "    area_in_intervals[i] = round(area_under_curve[i]- area_under_curve[i-1], 5) \n",
    "\n",
    "print(f\"Plochu pod křívkou v jednotlivých intervalech: {area_in_intervals}\")"
   ]
  },
  {
   "cell_type": "markdown",
   "metadata": {},
   "source": [
    "Plochu v jednotlivých intervalech využijeme jako očekávané pravděpodobnosti pro chi-kvadrát test. \n",
    "\n",
    "Provedeme normalizaci dat pro chi-kvadrát test. Potřebujeme, aby se součty očekavaných dat <em>( pravděpodobnost (`area_in_intervals`) krát počet studentů (`number_of_students`))</em> a pozorovaných dat <em>(`numbers_in_intervals`)</em> rovnaly."
   ]
  },
  {
   "cell_type": "code",
   "execution_count": 62,
   "metadata": {},
   "outputs": [
    {
     "data": {
      "text/plain": [
       "Power_divergenceResult(statistic=4.037268407465405, pvalue=0.4009856150302119)"
      ]
     },
     "execution_count": 62,
     "metadata": {},
     "output_type": "execute_result"
    }
   ],
   "source": [
    "number_of_students = sum(numbers_in_intervals)\n",
    "\n",
    "for i in range(len(area_in_intervals)):\n",
    "    area_in_intervals[i] = area_in_intervals[i]*number_of_students\n",
    "\n",
    "stats.chisquare(numbers_in_intervals, f_exp=area_in_intervals)"
   ]
  },
  {
   "cell_type": "markdown",
   "metadata": {},
   "source": [
    "# Závěr\n",
    "\n",
    "P-hodnota je větší než 0.05 (hladina významnosti testu), takže nulovou hypotézu nezamítneme. Reading score je dobře modelováno normálním rozdělením."
   ]
  },
  {
   "cell_type": "markdown",
   "metadata": {},
   "source": [
    "# 2. test\n",
    "\n",
    "Ve druhém testu budeme zkoumat závislost mezi reading score a writing score. Předpokladáme, že čím větší je reading score, tím větší je writing score. Provedeme lineární regresi.\n",
    "\n",
    "Nulová hypotéza: mezi reading score a writing score ne existuje lineární závislost.<br>\n",
    "Alternativní hypotéza: mezi reading score a writing score existuje lineární závislost."
   ]
  },
  {
   "cell_type": "markdown",
   "metadata": {},
   "source": [
    "### Načteme data a přeformujeme je."
   ]
  },
  {
   "cell_type": "code",
   "execution_count": 89,
   "metadata": {},
   "outputs": [
    {
     "name": "stdout",
     "output_type": "stream",
     "text": [
      "<class 'numpy.ndarray'>\n"
     ]
    }
   ],
   "source": [
    "reading_score = table['reading score']\n",
    "writing_score = table['writing score']\n",
    "\n",
    "x = reading_score.values.reshape(-1, 1)\n",
    "y = writing_score.values.reshape(-1, 1)"
   ]
  },
  {
   "cell_type": "markdown",
   "metadata": {},
   "source": [
    "### Zobrazíme data."
   ]
  },
  {
   "cell_type": "code",
   "execution_count": 64,
   "metadata": {},
   "outputs": [
    {
     "data": {
      "image/png": "[encoded data removed]",
      "text/plain": [
       "<Figure size 640x480 with 1 Axes>"
      ]
     },
     "metadata": {},
     "output_type": "display_data"
    }
   ],
   "source": [
    "figure, axis = plt.subplots()\n",
    "axis.set_ylabel('Writing score')\n",
    "axis.set_xlabel('Reading score')\n",
    "\n",
    "plt.scatter(x, y, color=\"orange\")\n",
    "plt.show()"
   ]
  },
  {
   "cell_type": "markdown",
   "metadata": {},
   "source": [
    "Dál spočteme průměr writing score a reading score."
   ]
  },
  {
   "cell_type": "code",
   "execution_count": 65,
   "metadata": {},
   "outputs": [
    {
     "name": "stdout",
     "output_type": "stream",
     "text": [
      "Průměr reading score = 69.169\n",
      "Průměr writing score = 68.054\n"
     ]
    }
   ],
   "source": [
    "reading_score_mean = reading_score.mean()\n",
    "print(f'Průměr reading score = {reading_score_mean}')\n",
    "writing_score_mean = writing_score.mean()\n",
    "print(f'Průměr writing score = {writing_score_mean }')"
   ]
  },
  {
   "cell_type": "markdown",
   "metadata": {},
   "source": [
    "Určíme přímku. Přímka a nutné formule jsou popsány [tady](https://iuuk.mff.cuni.cz/~samal/vyuka/2223/PSt1/slides-13.pdf)."
   ]
  },
  {
   "cell_type": "code",
   "execution_count": 66,
   "metadata": {},
   "outputs": [
    {
     "name": "stdout",
     "output_type": "stream",
     "text": [
      "The linear model is: Y = -0.66755 + 0.99353 * X\n"
     ]
    }
   ],
   "source": [
    "reading_score_sum = 0\n",
    "v0 = 0\n",
    "v1 = 0\n",
    "\n",
    "for i in range(len(writing_score)):\n",
    "    v1 += (reading_score[i] - reading_score_mean)*(writing_score[i] - writing_score_mean)\n",
    "    reading_score_sum += (reading_score[i] - reading_score_mean)**2\n",
    "\n",
    "v1 = v1/reading_score_sum\n",
    "v0 = writing_score_mean - v1*reading_score_mean\n",
    "\n",
    "print(\"The linear model is: Y = {:.5} + {:.5} * X\".format(v0, v1))"
   ]
  },
  {
   "cell_type": "markdown",
   "metadata": {},
   "source": [
    "Dál zobrazíme přímku na grafu."
   ]
  },
  {
   "cell_type": "code",
   "execution_count": 67,
   "metadata": {},
   "outputs": [
    {
     "data": {
      "image/png": "[encoded data removed]",
      "text/plain": [
       "<Figure size 640x480 with 1 Axes>"
      ]
     },
     "metadata": {},
     "output_type": "display_data"
    }
   ],
   "source": [
    "plt.scatter(x, y, color=\"orange\")\n",
    "plt.plot(x, v1*x+v0, c=\"red\")\n",
    "plt.show()"
   ]
  },
  {
   "cell_type": "markdown",
   "metadata": {},
   "source": [
    "Teď určíme p-hodnotu. Reading_score_sum bude konstantou, s ní provedeme OLS regresi. Postup byl získán [zde](https://www.statology.org/statsmodels-linear-regression-p-value/) a částečně [zde]((https://towardsdatascience.com/the-complete-guide-to-linear-regression-in-python-3d3f8f06bf8))."
   ]
  },
  {
   "cell_type": "code",
   "execution_count": 68,
   "metadata": {},
   "outputs": [
    {
     "name": "stdout",
     "output_type": "stream",
     "text": [
      "                            OLS Regression Results                            \n",
      "==============================================================================\n",
      "Dep. Variable:                      y   R-squared:                       0.911\n",
      "Model:                            OLS   Adj. R-squared:                  0.911\n",
      "Method:                 Least Squares   F-statistic:                 1.025e+04\n",
      "Date:                Fri, 28 Jul 2023   Prob (F-statistic):               0.00\n",
      "Time:                        18:27:35   Log-Likelihood:                -2928.4\n",
      "No. Observations:                1000   AIC:                             5861.\n",
      "Df Residuals:                     998   BIC:                             5871.\n",
      "Df Model:                           1                                         \n",
      "Covariance Type:            nonrobust                                         \n",
      "==============================================================================\n",
      "                 coef    std err          t      P>|t|      [0.025      0.975]\n",
      "------------------------------------------------------------------------------\n",
      "const         -0.6676      0.694     -0.962      0.336      -2.029       0.694\n",
      "x1             0.9935      0.010    101.233      0.000       0.974       1.013\n",
      "==============================================================================\n",
      "Omnibus:                        2.031   Durbin-Watson:                   1.970\n",
      "Prob(Omnibus):                  0.362   Jarque-Bera (JB):                2.094\n",
      "Skew:                           0.092   Prob(JB):                        0.351\n",
      "Kurtosis:                       2.871   Cond. No.                         343.\n",
      "==============================================================================\n",
      "\n",
      "Notes:\n",
      "[1] Standard Errors assume that the covariance matrix of the errors is correctly specified.\n",
      "P-hodnota je 0.0\n"
     ]
    }
   ],
   "source": [
    "X = sm.add_constant(x)\n",
    "model = sm.OLS(y, X).fit()\n",
    "\n",
    "print(model.summary())\n",
    "print(f\"P-hodnota je {model.pvalues[1]}\")\n"
   ]
  },
  {
   "cell_type": "markdown",
   "metadata": {},
   "source": [
    "# Závěr: \n",
    "P-hodnota je menší než 0.05 (hladina významnosti testu), takže musíme zamítnout nulovou hypotézu. Z toho vyplývá, že mezi reading score a writing score existuje lineární závislost."
   ]
  },
  {
   "cell_type": "markdown",
   "metadata": {},
   "source": [
    "# 3. test\n",
    "\n",
    "Ve 3. testu prozkoumáme, jestli se střední hodnota math score studentů, kteří absolvovali kurz po přípravě k testu, líší od střední hodnoty math score studentů, kteří ten kurz neabsolvovali. Použijeme dvouvýběrový test.\n",
    "\n",
    "Nulová hypotéza: střední hodnoty math score studentů ze dvou skupin se neliší.<br>\n",
    "Alternativní hypotéza: střední hodnoty se liší. "
   ]
  },
  {
   "cell_type": "markdown",
   "metadata": {},
   "source": [
    "Připravíme data:"
   ]
  },
  {
   "cell_type": "code",
   "execution_count": 69,
   "metadata": {},
   "outputs": [],
   "source": [
    "course_complete = []\n",
    "course_not_complete = []\n",
    "math_score = table[\"math score\"]\n",
    "course_info = table[\"test preparation course\"]\n",
    "\n",
    "\n",
    "for i in range(len(math_score)):\n",
    "    if course_info[i] == \"completed\":\n",
    "        course_complete.append(math_score[i])\n",
    "    else:\n",
    "        course_not_complete.append(math_score[i])\n"
   ]
  },
  {
   "cell_type": "markdown",
   "metadata": {},
   "source": [
    "Teď provedeme ttest z knihovny scipy.stats."
   ]
  },
  {
   "cell_type": "code",
   "execution_count": 70,
   "metadata": {},
   "outputs": [
    {
     "name": "stdout",
     "output_type": "stream",
     "text": [
      "Ttest_indResult(statistic=5.786983157907755, pvalue=1.0425616722069513e-08)\n",
      "\n",
      "Střední hodnota math score studentů, kteří absolvovali kurz: 69.69553072625699\n",
      "Střední hodnota math score studentů, kteří neabsolvovali kurz: 64.0778816199377\n"
     ]
    }
   ],
   "source": [
    "result = stats.ttest_ind(course_complete, course_not_complete, equal_var=False, alternative='two-sided')\n",
    "print(result)\n",
    "\n",
    "print(f\"\\nStřední hodnota math score studentů, kteří absolvovali kurz: {sum(course_complete)/len(course_complete)}\")\n",
    "print(f\"Střední hodnota math score studentů, kteří neabsolvovali kurz: {sum(course_not_complete)/len(course_not_complete)}\")"
   ]
  },
  {
   "cell_type": "markdown",
   "metadata": {},
   "source": [
    "# Závěr:\n",
    "\n",
    "P-hodnota je menší než 0.05 (hladina významnosti testu), takže zamítneme nulovou hypotézu, z čehož vyplývá, že střední hodnoty math score dvou skupin studentů liší.\n",
    "\n",
    "Pod p-hodnotou jsou vypsány střední hodnoty těchto dvou skupin, abychom ověřili, jak se liší. Je vidět, že studenti, kteří absolvovali kurz, měli větší úspěch u matematického testu."
   ]
  },
  {
   "cell_type": "markdown",
   "metadata": {},
   "source": [
    "# 4. test\n",
    "\n",
    "Ve 4. testu prozkoumáme, jestli pohlaví studenta mí á vliv na math score studenta. Provedeme to pomocí dvouvýběrového testu.\n",
    "\n",
    "Nulová hypotéza: pohlaví studenta nemá vliv na výsledek matematického testu udělaného studentem.<br>\n",
    "Alternativní hypotéza: pohlaví má vliv na úspěch studenta u matematického testu.\n"
   ]
  },
  {
   "cell_type": "markdown",
   "metadata": {},
   "source": [
    "Připravíme data."
   ]
  },
  {
   "cell_type": "code",
   "execution_count": 77,
   "metadata": {},
   "outputs": [],
   "source": [
    "math_score = table[\"math score\"]\n",
    "gender = table[\"gender\"]\n",
    "males = []\n",
    "females = []\n",
    "\n",
    "for i in range(len(math_score)):\n",
    "    if gender[i] == \"male\":\n",
    "        males.append(math_score[i])\n",
    "    else:\n",
    "        females.append(math_score[i])\n",
    "\n"
   ]
  },
  {
   "cell_type": "markdown",
   "metadata": {},
   "source": [
    "Teď provedeme ttest z knihovny scipy.stats."
   ]
  },
  {
   "cell_type": "code",
   "execution_count": 94,
   "metadata": {},
   "outputs": [
    {
     "name": "stdout",
     "output_type": "stream",
     "text": [
      "Ttest_indResult(statistic=5.786983157907755, pvalue=1.0425616722069513e-08)\n",
      "\n",
      "Střední hodnota výsledků matematického testu žen: 63.633204633204635\n",
      "Střední hodnota výsledků matematického testu nužů: 68.72821576763485\n"
     ]
    }
   ],
   "source": [
    "result = stats.ttest_ind(course_complete, course_not_complete, equal_var=False, alternative='two-sided')\n",
    "print(result)\n",
    "\n",
    "print(f\"\\nStřední hodnota výsledků matematického testu žen: {sum(females)/len(females)}\")\n",
    "print(f\"Střední hodnota výsledků matematického testu nužů: {sum(males)/len(males)}\")"
   ]
  },
  {
   "cell_type": "markdown",
   "metadata": {},
   "source": [
    "## Závěr: \n",
    "\n",
    "P-hodnota je menší než 0.05 (hladina významnosti testu), takže zamítneme nulovou hypotézu, z toho vyplývá, že pohlaví studenta má vliv na výsledky matematického testu."
   ]
  }
 ],
 "metadata": {
  "kernelspec": {
   "display_name": "Python 3",
   "language": "python",
   "name": "python3"
  },
  "language_info": {
   "codemirror_mode": {
    "name": "ipython",
    "version": 3
   },
   "file_extension": ".py",
   "mimetype": "text/x-python",
   "name": "python",
   "nbconvert_exporter": "python",
   "pygments_lexer": "ipython3",
   "version": "3.11.3"
  },
  "orig_nbformat": 4
 },
 "nbformat": 4,
 "nbformat_minor": 2
}
